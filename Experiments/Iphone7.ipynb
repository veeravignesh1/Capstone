{
 "cells": [
  {
   "cell_type": "markdown",
   "metadata": {},
   "source": [
    "<h1 align=\"center\" color:blue> Review Analysis </h1>"
   ]
  },
  {
   "cell_type": "markdown",
   "metadata": {},
   "source": [
    "## Steps\n",
    "\n",
    "- Length of Review\n",
    "- Number of Sentences\n",
    "- Average Sentence Length\n",
    "- Percentage of Question Sentence\n",
    "- Number of Exclamation Mark\n",
    "- Number of Upper case words (Fully Upper)\n",
    "- Number of words with Proper Format (Upper followed by small case)\n",
    "- Number of Emojis\n",
    "\n",
    "\n",
    "## NLP\n",
    "\n",
    "- Correct Spelling from the review\n",
    "- Remove Stop Words\n",
    "- Apply Lemmatization\n",
    "- Create Unigram of the corpus\n",
    "- Create Tf-Idf Matrix of the Corpus\n",
    "- POS Tagging\n",
    "- % Nouns\n",
    "- % Verbs\n",
    "- % Adjective\n",
    "- % Adverbs"
   ]
  },
  {
   "cell_type": "code",
   "execution_count": 35,
   "metadata": {},
   "outputs": [],
   "source": [
    "# Importing Necessary Modules\n",
    "import pandas as pd\n",
    "import numpy as np\n",
    "import matplotlib.pyplot as plt\n",
    "import seaborn as sns\n",
    "import spacy\n",
    "nlp=spacy.load('en_core_web_sm')\n",
    "from sklearn.model_selection import train_test_split\n",
    "from spacy.pipeline import SentenceSegmenter\n",
    "import re\n",
    "import warnings\n",
    "warnings.filterwarnings('ignore')\n",
    "import textblob\n",
    "from textblob import TextBlob\n",
    "\n",
    "# Customization of View\n",
    "pd.options.display.max_columns = 999"
   ]
  },
  {
   "cell_type": "code",
   "execution_count": 36,
   "metadata": {},
   "outputs": [],
   "source": [
    "df=pd.read_excel(\"Iphone7_new_features.xlsx\",index_col=\"Sr_No\")"
   ]
  },
  {
   "cell_type": "code",
   "execution_count": 37,
   "metadata": {},
   "outputs": [
    {
     "data": {
      "text/plain": [
       "Int64Index([   1,    2,    3,    4,    5,    6,    7,    8,    9,   10,\n",
       "            ...\n",
       "            1102, 1104, 1105, 1198, 1204, 1206, 1207, 1229, 1230, 1259],\n",
       "           dtype='int64', name='Sr_No', length=263)"
      ]
     },
     "execution_count": 37,
     "metadata": {},
     "output_type": "execute_result"
    }
   ],
   "source": [
    "df.index"
   ]
  },
  {
   "cell_type": "code",
   "execution_count": 38,
   "metadata": {},
   "outputs": [
    {
     "data": {
      "text/plain": [
       "Index(['Review_Title', 'Review_Text', 'Review_Rating', 'Buyer_Type',\n",
       "       'Review_Date', 'Upvote', 'Downvote', 'Read', 'Sum_of_Up_Down',\n",
       "       'No_of_Pics', 'Name', 'Gender', 'Unnamed: 13'],\n",
       "      dtype='object')"
      ]
     },
     "execution_count": 38,
     "metadata": {},
     "output_type": "execute_result"
    }
   ],
   "source": [
    "df.columns"
   ]
  },
  {
   "cell_type": "code",
   "execution_count": 39,
   "metadata": {},
   "outputs": [
    {
     "data": {
      "text/html": [
       "<div>\n",
       "<style scoped>\n",
       "    .dataframe tbody tr th:only-of-type {\n",
       "        vertical-align: middle;\n",
       "    }\n",
       "\n",
       "    .dataframe tbody tr th {\n",
       "        vertical-align: top;\n",
       "    }\n",
       "\n",
       "    .dataframe thead th {\n",
       "        text-align: right;\n",
       "    }\n",
       "</style>\n",
       "<table border=\"1\" class=\"dataframe\">\n",
       "  <thead>\n",
       "    <tr style=\"text-align: right;\">\n",
       "      <th></th>\n",
       "      <th>Review_Title</th>\n",
       "      <th>Review_Text</th>\n",
       "      <th>Review_Rating</th>\n",
       "      <th>Buyer_Type</th>\n",
       "      <th>Review_Date</th>\n",
       "      <th>Upvote</th>\n",
       "      <th>Downvote</th>\n",
       "      <th>Read</th>\n",
       "      <th>Sum_of_Up_Down</th>\n",
       "      <th>No_of_Pics</th>\n",
       "      <th>Name</th>\n",
       "      <th>Gender</th>\n",
       "      <th>Unnamed: 13</th>\n",
       "    </tr>\n",
       "    <tr>\n",
       "      <th>Sr_No</th>\n",
       "      <th></th>\n",
       "      <th></th>\n",
       "      <th></th>\n",
       "      <th></th>\n",
       "      <th></th>\n",
       "      <th></th>\n",
       "      <th></th>\n",
       "      <th></th>\n",
       "      <th></th>\n",
       "      <th></th>\n",
       "      <th></th>\n",
       "      <th></th>\n",
       "      <th></th>\n",
       "    </tr>\n",
       "  </thead>\n",
       "  <tbody>\n",
       "    <tr>\n",
       "      <th>1</th>\n",
       "      <td>Classy product</td>\n",
       "      <td>Too good luv it\\n iPhone is only camera lovers</td>\n",
       "      <td>5</td>\n",
       "      <td>Certified Buyer</td>\n",
       "      <td>4 months ago</td>\n",
       "      <td>704</td>\n",
       "      <td>88</td>\n",
       "      <td>NaN</td>\n",
       "      <td>792</td>\n",
       "      <td>2</td>\n",
       "      <td>Gulshan Khan</td>\n",
       "      <td>M</td>\n",
       "      <td>NaN</td>\n",
       "    </tr>\n",
       "    <tr>\n",
       "      <th>2</th>\n",
       "      <td>Must buy!</td>\n",
       "      <td>From last 5 years my younger brother was using...</td>\n",
       "      <td>5</td>\n",
       "      <td>Certified Buyer</td>\n",
       "      <td>4 months ago</td>\n",
       "      <td>2100</td>\n",
       "      <td>314</td>\n",
       "      <td>NaN</td>\n",
       "      <td>2414</td>\n",
       "      <td>0</td>\n",
       "      <td>Ezzazuddin Huseni</td>\n",
       "      <td>M</td>\n",
       "      <td>NaN</td>\n",
       "    </tr>\n",
       "    <tr>\n",
       "      <th>3</th>\n",
       "      <td>Excellent</td>\n",
       "      <td>I click this photo on wall painting</td>\n",
       "      <td>5</td>\n",
       "      <td>Certified Buyer</td>\n",
       "      <td>5 months ago</td>\n",
       "      <td>1062</td>\n",
       "      <td>160</td>\n",
       "      <td>NaN</td>\n",
       "      <td>1222</td>\n",
       "      <td>1</td>\n",
       "      <td>rock games</td>\n",
       "      <td>X</td>\n",
       "      <td>NaN</td>\n",
       "    </tr>\n",
       "    <tr>\n",
       "      <th>4</th>\n",
       "      <td>Pretty good</td>\n",
       "      <td>It was as expected ❤</td>\n",
       "      <td>4</td>\n",
       "      <td>Certified Buyer</td>\n",
       "      <td>4 months ago</td>\n",
       "      <td>1394</td>\n",
       "      <td>224</td>\n",
       "      <td>NaN</td>\n",
       "      <td>1618</td>\n",
       "      <td>1</td>\n",
       "      <td>Gracie Grace</td>\n",
       "      <td>F</td>\n",
       "      <td>NaN</td>\n",
       "    </tr>\n",
       "    <tr>\n",
       "      <th>5</th>\n",
       "      <td>Highly recommended</td>\n",
       "      <td>superb product...i liked it very much</td>\n",
       "      <td>5</td>\n",
       "      <td>Certified Buyer</td>\n",
       "      <td>2018-12-01 00:00:00</td>\n",
       "      <td>400</td>\n",
       "      <td>66</td>\n",
       "      <td>NaN</td>\n",
       "      <td>466</td>\n",
       "      <td>1</td>\n",
       "      <td>Swapnil Joshi</td>\n",
       "      <td>M</td>\n",
       "      <td>NaN</td>\n",
       "    </tr>\n",
       "  </tbody>\n",
       "</table>\n",
       "</div>"
      ],
      "text/plain": [
       "             Review_Title                                        Review_Text  \\\n",
       "Sr_No                                                                          \n",
       "1          Classy product     Too good luv it\\n iPhone is only camera lovers   \n",
       "2               Must buy!  From last 5 years my younger brother was using...   \n",
       "3               Excellent                I click this photo on wall painting   \n",
       "4             Pretty good                               It was as expected ❤   \n",
       "5      Highly recommended              superb product...i liked it very much   \n",
       "\n",
       "       Review_Rating       Buyer_Type          Review_Date  Upvote  Downvote  \\\n",
       "Sr_No                                                                          \n",
       "1                  5  Certified Buyer         4 months ago     704        88   \n",
       "2                  5  Certified Buyer         4 months ago    2100       314   \n",
       "3                  5  Certified Buyer         5 months ago    1062       160   \n",
       "4                  4  Certified Buyer         4 months ago    1394       224   \n",
       "5                  5  Certified Buyer  2018-12-01 00:00:00     400        66   \n",
       "\n",
       "      Read  Sum_of_Up_Down  No_of_Pics               Name Gender Unnamed: 13  \n",
       "Sr_No                                                                         \n",
       "1      NaN             792           2       Gulshan Khan      M         NaN  \n",
       "2      NaN            2414           0  Ezzazuddin Huseni      M         NaN  \n",
       "3      NaN            1222           1         rock games      X         NaN  \n",
       "4      NaN            1618           1       Gracie Grace      F         NaN  \n",
       "5      NaN             466           1      Swapnil Joshi      M         NaN  "
      ]
     },
     "execution_count": 39,
     "metadata": {},
     "output_type": "execute_result"
    }
   ],
   "source": [
    "df.head()"
   ]
  },
  {
   "cell_type": "code",
   "execution_count": 40,
   "metadata": {},
   "outputs": [],
   "source": [
    "df=df.drop([\"Name\",\"Unnamed: 13\"],axis=1)"
   ]
  },
  {
   "cell_type": "markdown",
   "metadata": {},
   "source": [
    "### Length Of Reviews"
   ]
  },
  {
   "cell_type": "code",
   "execution_count": 41,
   "metadata": {},
   "outputs": [
    {
     "data": {
      "text/plain": [
       "Sr_No\n",
       "1          Too good luv it\\n iPhone is only camera lovers\n",
       "2       From last 5 years my younger brother was using...\n",
       "3                     I click this photo on wall painting\n",
       "4                                    It was as expected ❤\n",
       "5                   superb product...i liked it very much\n",
       "                              ...                        \n",
       "1206    I ordered iphone from SupercomNet\\n And here o...\n",
       "1207    I have used for only two weeks and the phone g...\n",
       "1229    Awesome phone...I preordered the phone not onl...\n",
       "1230    The IPhone 7 is a great device. There are no l...\n",
       "1259    I received a defective product - the iphone wa...\n",
       "Name: Review_Text, Length: 263, dtype: object"
      ]
     },
     "execution_count": 41,
     "metadata": {},
     "output_type": "execute_result"
    }
   ],
   "source": [
    "df.Review_Text"
   ]
  },
  {
   "cell_type": "code",
   "execution_count": 42,
   "metadata": {},
   "outputs": [],
   "source": [
    "df[\"Len_before\"] = df.Review_Text.apply(lambda x: len(x.split()))"
   ]
  },
  {
   "cell_type": "code",
   "execution_count": 43,
   "metadata": {},
   "outputs": [
    {
     "data": {
      "image/png": "[encoded data removed]",
      "text/plain": [
       "<Figure size 432x288 with 1 Axes>"
      ]
     },
     "metadata": {
      "needs_background": "light"
     },
     "output_type": "display_data"
    }
   ],
   "source": [
    "sns.distplot(df.Len_before,kde=False)\n",
    "plt.xlabel(\"Length of the Reviews\")\n",
    "plt.ylabel(\"Frequency of Reviews\")\n",
    "plt.title(\"Len of Reviews vs Frequency\")\n",
    "plt.show()"
   ]
  },
  {
   "cell_type": "code",
   "execution_count": 44,
   "metadata": {},
   "outputs": [
    {
     "data": {
      "text/plain": [
       "count    263.000000\n",
       "mean      57.532319\n",
       "std       76.299167\n",
       "min        1.000000\n",
       "25%        9.000000\n",
       "50%       36.000000\n",
       "75%       72.500000\n",
       "max      633.000000\n",
       "Name: Len_before, dtype: float64"
      ]
     },
     "execution_count": 44,
     "metadata": {},
     "output_type": "execute_result"
    }
   ],
   "source": [
    "df.Len_before.describe()"
   ]
  },
  {
   "cell_type": "markdown",
   "metadata": {},
   "source": [
    "### Number of Sentence"
   ]
  },
  {
   "cell_type": "code",
   "execution_count": 45,
   "metadata": {},
   "outputs": [],
   "source": [
    "import nltk\n",
    "def num_sentence(text):\n",
    "    return len(nltk.sent_tokenize(text))"
   ]
  },
  {
   "cell_type": "markdown",
   "metadata": {},
   "source": [
    "**Using Transformers to count the number of sentences is taking long time compared to English() in spacy.... (Experimented by Tamse) will be used going forward**"
   ]
  },
  {
   "cell_type": "code",
   "execution_count": 46,
   "metadata": {},
   "outputs": [],
   "source": [
    "df['Num_Sentence']=df.Review_Text.apply(num_sentence)"
   ]
  },
  {
   "cell_type": "markdown",
   "metadata": {},
   "source": [
    "### Average Sentence Length"
   ]
  },
  {
   "cell_type": "code",
   "execution_count": 47,
   "metadata": {},
   "outputs": [
    {
     "data": {
      "text/plain": [
       "4.034220532319392"
      ]
     },
     "execution_count": 47,
     "metadata": {},
     "output_type": "execute_result"
    }
   ],
   "source": [
    "df.Num_Sentence.mean()"
   ]
  },
  {
   "cell_type": "markdown",
   "metadata": {},
   "source": [
    "### Number of Question Sentence"
   ]
  },
  {
   "cell_type": "code",
   "execution_count": 48,
   "metadata": {},
   "outputs": [
    {
     "data": {
      "text/plain": [
       "Sr_No\n",
       "1       0\n",
       "2       0\n",
       "3       0\n",
       "4       0\n",
       "5       0\n",
       "       ..\n",
       "1206    2\n",
       "1207    0\n",
       "1229    0\n",
       "1230    0\n",
       "1259    0\n",
       "Name: No_QMark, Length: 263, dtype: int64"
      ]
     },
     "execution_count": 48,
     "metadata": {},
     "output_type": "execute_result"
    }
   ],
   "source": [
    "df['No_QMark'] = df.Review_Text.str.count(pat='\\?')\n",
    "df.No_QMark"
   ]
  },
  {
   "cell_type": "code",
   "execution_count": 49,
   "metadata": {},
   "outputs": [
    {
     "data": {
      "text/plain": [
       "0    260\n",
       "1      2\n",
       "2      1\n",
       "Name: No_QMark, dtype: int64"
      ]
     },
     "execution_count": 49,
     "metadata": {},
     "output_type": "execute_result"
    }
   ],
   "source": [
    "df.No_QMark.value_counts()"
   ]
  },
  {
   "cell_type": "markdown",
   "metadata": {},
   "source": [
    "### Number of Exclamation Mark"
   ]
  },
  {
   "cell_type": "code",
   "execution_count": 50,
   "metadata": {},
   "outputs": [
    {
     "data": {
      "text/plain": [
       "Sr_No\n",
       "1       14.0\n",
       "2        9.0\n",
       "3        3.0\n",
       "4        3.0\n",
       "5        1.0\n",
       "        ... \n",
       "1206     NaN\n",
       "1207     NaN\n",
       "1229     NaN\n",
       "1230     NaN\n",
       "1259     NaN\n",
       "Name: No_ExMark, Length: 263, dtype: float64"
      ]
     },
     "execution_count": 50,
     "metadata": {},
     "output_type": "execute_result"
    }
   ],
   "source": [
    "df['No_ExMark']=df.Review_Text.str.count(pat='!').value_counts()\n",
    "df.No_ExMark"
   ]
  },
  {
   "cell_type": "code",
   "execution_count": 51,
   "metadata": {},
   "outputs": [
    {
     "data": {
      "text/plain": [
       "1.0     3\n",
       "3.0     2\n",
       "2.0     1\n",
       "9.0     1\n",
       "14.0    1\n",
       "Name: No_ExMark, dtype: int64"
      ]
     },
     "execution_count": 51,
     "metadata": {},
     "output_type": "execute_result"
    }
   ],
   "source": [
    "df.No_ExMark.value_counts()"
   ]
  },
  {
   "cell_type": "markdown",
   "metadata": {},
   "source": [
    "### Number of Upper case words (Fully Upper)"
   ]
  },
  {
   "cell_type": "code",
   "execution_count": 52,
   "metadata": {},
   "outputs": [],
   "source": [
    "def count_upper(text):\n",
    "    count=0\n",
    "    for i in text.split():\n",
    "        if text.isupper():\n",
    "            count+=1\n",
    "    return count"
   ]
  },
  {
   "cell_type": "code",
   "execution_count": 53,
   "metadata": {},
   "outputs": [],
   "source": [
    "df['No_Upper']=df.Review_Text.apply(count_upper)"
   ]
  },
  {
   "cell_type": "code",
   "execution_count": 54,
   "metadata": {},
   "outputs": [
    {
     "data": {
      "text/plain": [
       "0    262\n",
       "4      1\n",
       "Name: No_Upper, dtype: int64"
      ]
     },
     "execution_count": 54,
     "metadata": {},
     "output_type": "execute_result"
    }
   ],
   "source": [
    "df.No_Upper.value_counts()"
   ]
  },
  {
   "cell_type": "markdown",
   "metadata": {},
   "source": [
    "## Number of words with Proper Format"
   ]
  },
  {
   "cell_type": "code",
   "execution_count": 55,
   "metadata": {},
   "outputs": [],
   "source": [
    "def count_proper(text):\n",
    "    count=0\n",
    "    for i in text.split():\n",
    "        if text.istitle():\n",
    "            count+=1\n",
    "    return count"
   ]
  },
  {
   "cell_type": "code",
   "execution_count": 56,
   "metadata": {},
   "outputs": [],
   "source": [
    "df['No_proper']=df.Review_Text.apply(count_proper).value_counts()"
   ]
  },
  {
   "cell_type": "markdown",
   "metadata": {},
   "source": [
    "## Number of Emojis"
   ]
  },
  {
   "cell_type": "code",
   "execution_count": 57,
   "metadata": {},
   "outputs": [],
   "source": [
    "import emoji\n",
    "def emoji_count(text):\n",
    "    return emoji.emoji_count(text)"
   ]
  },
  {
   "cell_type": "code",
   "execution_count": 58,
   "metadata": {},
   "outputs": [],
   "source": [
    "df['Emoji_Count']=df.Review_Text.apply(emoji_count)"
   ]
  },
  {
   "cell_type": "code",
   "execution_count": 59,
   "metadata": {},
   "outputs": [
    {
     "data": {
      "text/plain": [
       "Sr_No\n",
       "1    0\n",
       "2    0\n",
       "3    0\n",
       "4    1\n",
       "5    0\n",
       "Name: Emoji_Count, dtype: int64"
      ]
     },
     "execution_count": 59,
     "metadata": {},
     "output_type": "execute_result"
    }
   ],
   "source": [
    "df.Emoji_Count.head()"
   ]
  },
  {
   "cell_type": "markdown",
   "metadata": {},
   "source": [
    "# NLP"
   ]
  },
  {
   "cell_type": "code",
   "execution_count": 60,
   "metadata": {},
   "outputs": [
    {
     "data": {
      "text/plain": [
       "Index(['Review_Title', 'Review_Text', 'Review_Rating', 'Buyer_Type',\n",
       "       'Review_Date', 'Upvote', 'Downvote', 'Read', 'Sum_of_Up_Down',\n",
       "       'No_of_Pics', 'Gender', 'Len_before', 'Num_Sentence', 'No_QMark',\n",
       "       'No_ExMark', 'No_Upper', 'No_proper', 'Emoji_Count'],\n",
       "      dtype='object')"
      ]
     },
     "execution_count": 60,
     "metadata": {},
     "output_type": "execute_result"
    }
   ],
   "source": [
    "df.columns"
   ]
  },
  {
   "cell_type": "code",
   "execution_count": 61,
   "metadata": {},
   "outputs": [],
   "source": [
    "df[\"h\"]=np.round(df.Upvote /(df.Upvote + df.Downvote),2)"
   ]
  },
  {
   "cell_type": "code",
   "execution_count": 62,
   "metadata": {},
   "outputs": [
    {
     "data": {
      "text/plain": [
       "Index(['Review_Title', 'Review_Text', 'Review_Rating', 'Buyer_Type',\n",
       "       'Review_Date', 'Upvote', 'Downvote', 'Read', 'Sum_of_Up_Down',\n",
       "       'No_of_Pics', 'Gender', 'Len_before', 'Num_Sentence', 'No_QMark',\n",
       "       'No_ExMark', 'No_Upper', 'No_proper', 'Emoji_Count', 'h'],\n",
       "      dtype='object')"
      ]
     },
     "execution_count": 62,
     "metadata": {},
     "output_type": "execute_result"
    }
   ],
   "source": [
    "df.columns"
   ]
  },
  {
   "cell_type": "markdown",
   "metadata": {},
   "source": [
    "<font color=\"red\"><h3>Saving all feature in a csv</h3></font>"
   ]
  },
  {
   "cell_type": "code",
   "execution_count": 63,
   "metadata": {},
   "outputs": [],
   "source": [
    "df.to_csv(\"withfeatures.csv\")"
   ]
  }
 ],
 "metadata": {
  "kernelspec": {
   "display_name": "Python 3",
   "language": "python",
   "name": "python3"
  },
  "language_info": {
   "codemirror_mode": {
    "name": "ipython",
    "version": 3
   },
   "file_extension": ".py",
   "mimetype": "text/x-python",
   "name": "python",
   "nbconvert_exporter": "python",
   "pygments_lexer": "ipython3",
   "version": "3.7.6"
  }
 },
 "nbformat": 4,
 "nbformat_minor": 4
}
